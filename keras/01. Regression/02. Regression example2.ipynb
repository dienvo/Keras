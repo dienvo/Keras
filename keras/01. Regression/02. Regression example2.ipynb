{
 "cells": [
  {
   "cell_type": "code",
   "execution_count": 65,
   "metadata": {},
   "outputs": [],
   "source": [
    "import pandas as pd\n",
    "import matplotlib.pyplot as plt"
   ]
  },
  {
   "cell_type": "code",
   "execution_count": 66,
   "metadata": {},
   "outputs": [],
   "source": [
    "df=pd.read_csv(\"/home/jackdaniel/Documents/learnig skill/keras/cal_housing_clean.csv\")"
   ]
  },
  {
   "cell_type": "code",
   "execution_count": 67,
   "metadata": {
    "scrolled": false
   },
   "outputs": [
    {
     "data": {
      "text/html": [
       "<div>\n",
       "<style scoped>\n",
       "    .dataframe tbody tr th:only-of-type {\n",
       "        vertical-align: middle;\n",
       "    }\n",
       "\n",
       "    .dataframe tbody tr th {\n",
       "        vertical-align: top;\n",
       "    }\n",
       "\n",
       "    .dataframe thead th {\n",
       "        text-align: right;\n",
       "    }\n",
       "</style>\n",
       "<table border=\"1\" class=\"dataframe\">\n",
       "  <thead>\n",
       "    <tr style=\"text-align: right;\">\n",
       "      <th></th>\n",
       "      <th>housingMedianAge</th>\n",
       "      <th>totalRooms</th>\n",
       "      <th>totalBedrooms</th>\n",
       "      <th>population</th>\n",
       "      <th>households</th>\n",
       "      <th>medianIncome</th>\n",
       "      <th>medianHouseValue</th>\n",
       "    </tr>\n",
       "  </thead>\n",
       "  <tbody>\n",
       "    <tr>\n",
       "      <th>0</th>\n",
       "      <td>41.0</td>\n",
       "      <td>880.0</td>\n",
       "      <td>129.0</td>\n",
       "      <td>322.0</td>\n",
       "      <td>126.0</td>\n",
       "      <td>8.3252</td>\n",
       "      <td>452600.0</td>\n",
       "    </tr>\n",
       "    <tr>\n",
       "      <th>1</th>\n",
       "      <td>21.0</td>\n",
       "      <td>7099.0</td>\n",
       "      <td>1106.0</td>\n",
       "      <td>2401.0</td>\n",
       "      <td>1138.0</td>\n",
       "      <td>8.3014</td>\n",
       "      <td>358500.0</td>\n",
       "    </tr>\n",
       "    <tr>\n",
       "      <th>2</th>\n",
       "      <td>52.0</td>\n",
       "      <td>1467.0</td>\n",
       "      <td>190.0</td>\n",
       "      <td>496.0</td>\n",
       "      <td>177.0</td>\n",
       "      <td>7.2574</td>\n",
       "      <td>352100.0</td>\n",
       "    </tr>\n",
       "    <tr>\n",
       "      <th>3</th>\n",
       "      <td>52.0</td>\n",
       "      <td>1274.0</td>\n",
       "      <td>235.0</td>\n",
       "      <td>558.0</td>\n",
       "      <td>219.0</td>\n",
       "      <td>5.6431</td>\n",
       "      <td>341300.0</td>\n",
       "    </tr>\n",
       "    <tr>\n",
       "      <th>4</th>\n",
       "      <td>52.0</td>\n",
       "      <td>1627.0</td>\n",
       "      <td>280.0</td>\n",
       "      <td>565.0</td>\n",
       "      <td>259.0</td>\n",
       "      <td>3.8462</td>\n",
       "      <td>342200.0</td>\n",
       "    </tr>\n",
       "    <tr>\n",
       "      <th>...</th>\n",
       "      <td>...</td>\n",
       "      <td>...</td>\n",
       "      <td>...</td>\n",
       "      <td>...</td>\n",
       "      <td>...</td>\n",
       "      <td>...</td>\n",
       "      <td>...</td>\n",
       "    </tr>\n",
       "    <tr>\n",
       "      <th>20635</th>\n",
       "      <td>25.0</td>\n",
       "      <td>1665.0</td>\n",
       "      <td>374.0</td>\n",
       "      <td>845.0</td>\n",
       "      <td>330.0</td>\n",
       "      <td>1.5603</td>\n",
       "      <td>78100.0</td>\n",
       "    </tr>\n",
       "    <tr>\n",
       "      <th>20636</th>\n",
       "      <td>18.0</td>\n",
       "      <td>697.0</td>\n",
       "      <td>150.0</td>\n",
       "      <td>356.0</td>\n",
       "      <td>114.0</td>\n",
       "      <td>2.5568</td>\n",
       "      <td>77100.0</td>\n",
       "    </tr>\n",
       "    <tr>\n",
       "      <th>20637</th>\n",
       "      <td>17.0</td>\n",
       "      <td>2254.0</td>\n",
       "      <td>485.0</td>\n",
       "      <td>1007.0</td>\n",
       "      <td>433.0</td>\n",
       "      <td>1.7000</td>\n",
       "      <td>92300.0</td>\n",
       "    </tr>\n",
       "    <tr>\n",
       "      <th>20638</th>\n",
       "      <td>18.0</td>\n",
       "      <td>1860.0</td>\n",
       "      <td>409.0</td>\n",
       "      <td>741.0</td>\n",
       "      <td>349.0</td>\n",
       "      <td>1.8672</td>\n",
       "      <td>84700.0</td>\n",
       "    </tr>\n",
       "    <tr>\n",
       "      <th>20639</th>\n",
       "      <td>16.0</td>\n",
       "      <td>2785.0</td>\n",
       "      <td>616.0</td>\n",
       "      <td>1387.0</td>\n",
       "      <td>530.0</td>\n",
       "      <td>2.3886</td>\n",
       "      <td>89400.0</td>\n",
       "    </tr>\n",
       "  </tbody>\n",
       "</table>\n",
       "<p>20640 rows × 7 columns</p>\n",
       "</div>"
      ],
      "text/plain": [
       "       housingMedianAge  totalRooms  totalBedrooms  population  households  \\\n",
       "0                  41.0       880.0          129.0       322.0       126.0   \n",
       "1                  21.0      7099.0         1106.0      2401.0      1138.0   \n",
       "2                  52.0      1467.0          190.0       496.0       177.0   \n",
       "3                  52.0      1274.0          235.0       558.0       219.0   \n",
       "4                  52.0      1627.0          280.0       565.0       259.0   \n",
       "...                 ...         ...            ...         ...         ...   \n",
       "20635              25.0      1665.0          374.0       845.0       330.0   \n",
       "20636              18.0       697.0          150.0       356.0       114.0   \n",
       "20637              17.0      2254.0          485.0      1007.0       433.0   \n",
       "20638              18.0      1860.0          409.0       741.0       349.0   \n",
       "20639              16.0      2785.0          616.0      1387.0       530.0   \n",
       "\n",
       "       medianIncome  medianHouseValue  \n",
       "0            8.3252          452600.0  \n",
       "1            8.3014          358500.0  \n",
       "2            7.2574          352100.0  \n",
       "3            5.6431          341300.0  \n",
       "4            3.8462          342200.0  \n",
       "...             ...               ...  \n",
       "20635        1.5603           78100.0  \n",
       "20636        2.5568           77100.0  \n",
       "20637        1.7000           92300.0  \n",
       "20638        1.8672           84700.0  \n",
       "20639        2.3886           89400.0  \n",
       "\n",
       "[20640 rows x 7 columns]"
      ]
     },
     "execution_count": 67,
     "metadata": {},
     "output_type": "execute_result"
    }
   ],
   "source": [
    "df"
   ]
  },
  {
   "cell_type": "code",
   "execution_count": 68,
   "metadata": {},
   "outputs": [
    {
     "data": {
      "text/plain": [
       "Index(['housingMedianAge', 'totalRooms', 'totalBedrooms', 'population',\n",
       "       'households', 'medianIncome', 'medianHouseValue'],\n",
       "      dtype='object')"
      ]
     },
     "execution_count": 68,
     "metadata": {},
     "output_type": "execute_result"
    }
   ],
   "source": [
    "df.columns"
   ]
  },
  {
   "cell_type": "code",
   "execution_count": 69,
   "metadata": {},
   "outputs": [],
   "source": [
    "cols_to_nor=['housingMedianAge', 'totalRooms', 'totalBedrooms', 'population',\n",
    "       'households', 'medianIncome', 'medianHouseValue']"
   ]
  },
  {
   "cell_type": "code",
   "execution_count": 70,
   "metadata": {},
   "outputs": [],
   "source": [
    "df[cols_to_nor]=df[cols_to_nor].apply(lambda x:(x-x.min())/(x.max()-x.min()))"
   ]
  },
  {
   "cell_type": "code",
   "execution_count": 71,
   "metadata": {},
   "outputs": [
    {
     "data": {
      "text/html": [
       "<div>\n",
       "<style scoped>\n",
       "    .dataframe tbody tr th:only-of-type {\n",
       "        vertical-align: middle;\n",
       "    }\n",
       "\n",
       "    .dataframe tbody tr th {\n",
       "        vertical-align: top;\n",
       "    }\n",
       "\n",
       "    .dataframe thead th {\n",
       "        text-align: right;\n",
       "    }\n",
       "</style>\n",
       "<table border=\"1\" class=\"dataframe\">\n",
       "  <thead>\n",
       "    <tr style=\"text-align: right;\">\n",
       "      <th></th>\n",
       "      <th>housingMedianAge</th>\n",
       "      <th>totalRooms</th>\n",
       "      <th>totalBedrooms</th>\n",
       "      <th>population</th>\n",
       "      <th>households</th>\n",
       "      <th>medianIncome</th>\n",
       "      <th>medianHouseValue</th>\n",
       "    </tr>\n",
       "  </thead>\n",
       "  <tbody>\n",
       "    <tr>\n",
       "      <th>0</th>\n",
       "      <td>0.784314</td>\n",
       "      <td>0.022331</td>\n",
       "      <td>0.019863</td>\n",
       "      <td>0.008941</td>\n",
       "      <td>0.020556</td>\n",
       "      <td>0.539668</td>\n",
       "      <td>0.902266</td>\n",
       "    </tr>\n",
       "    <tr>\n",
       "      <th>1</th>\n",
       "      <td>0.392157</td>\n",
       "      <td>0.180503</td>\n",
       "      <td>0.171477</td>\n",
       "      <td>0.067210</td>\n",
       "      <td>0.186976</td>\n",
       "      <td>0.538027</td>\n",
       "      <td>0.708247</td>\n",
       "    </tr>\n",
       "    <tr>\n",
       "      <th>2</th>\n",
       "      <td>1.000000</td>\n",
       "      <td>0.037260</td>\n",
       "      <td>0.029330</td>\n",
       "      <td>0.013818</td>\n",
       "      <td>0.028943</td>\n",
       "      <td>0.466028</td>\n",
       "      <td>0.695051</td>\n",
       "    </tr>\n",
       "    <tr>\n",
       "      <th>3</th>\n",
       "      <td>1.000000</td>\n",
       "      <td>0.032352</td>\n",
       "      <td>0.036313</td>\n",
       "      <td>0.015555</td>\n",
       "      <td>0.035849</td>\n",
       "      <td>0.354699</td>\n",
       "      <td>0.672783</td>\n",
       "    </tr>\n",
       "    <tr>\n",
       "      <th>4</th>\n",
       "      <td>1.000000</td>\n",
       "      <td>0.041330</td>\n",
       "      <td>0.043296</td>\n",
       "      <td>0.015752</td>\n",
       "      <td>0.042427</td>\n",
       "      <td>0.230776</td>\n",
       "      <td>0.674638</td>\n",
       "    </tr>\n",
       "  </tbody>\n",
       "</table>\n",
       "</div>"
      ],
      "text/plain": [
       "   housingMedianAge  totalRooms  totalBedrooms  population  households  \\\n",
       "0          0.784314    0.022331       0.019863    0.008941    0.020556   \n",
       "1          0.392157    0.180503       0.171477    0.067210    0.186976   \n",
       "2          1.000000    0.037260       0.029330    0.013818    0.028943   \n",
       "3          1.000000    0.032352       0.036313    0.015555    0.035849   \n",
       "4          1.000000    0.041330       0.043296    0.015752    0.042427   \n",
       "\n",
       "   medianIncome  medianHouseValue  \n",
       "0      0.539668          0.902266  \n",
       "1      0.538027          0.708247  \n",
       "2      0.466028          0.695051  \n",
       "3      0.354699          0.672783  \n",
       "4      0.230776          0.674638  "
      ]
     },
     "execution_count": 71,
     "metadata": {},
     "output_type": "execute_result"
    }
   ],
   "source": [
    "df.head()"
   ]
  },
  {
   "cell_type": "code",
   "execution_count": 72,
   "metadata": {},
   "outputs": [],
   "source": [
    "x=df.drop(\"medianHouseValue\",axis=1).values\n",
    "y=df[\"medianHouseValue\"].values"
   ]
  },
  {
   "cell_type": "code",
   "execution_count": 73,
   "metadata": {},
   "outputs": [],
   "source": [
    "from sklearn.model_selection import train_test_split\n",
    "x_train,x_test,y_train,y_test=train_test_split(x,y,test_size=0.3)"
   ]
  },
  {
   "cell_type": "code",
   "execution_count": 74,
   "metadata": {},
   "outputs": [],
   "source": [
    "from keras.models import Sequential\n",
    "from keras.layers import Dense,Activation"
   ]
  },
  {
   "cell_type": "code",
   "execution_count": 75,
   "metadata": {},
   "outputs": [],
   "source": [
    "model=Sequential()"
   ]
  },
  {
   "cell_type": "code",
   "execution_count": 76,
   "metadata": {},
   "outputs": [],
   "source": [
    "#input and first hidden layer\n",
    "model.add(Dense(units=1,activation=\"linear\",input_dim=6))"
   ]
  },
  {
   "cell_type": "code",
   "execution_count": 77,
   "metadata": {},
   "outputs": [],
   "source": [
    "#output layer\n",
    "model.add(Dense(units=1,activation=\"linear\"))"
   ]
  },
  {
   "cell_type": "code",
   "execution_count": 78,
   "metadata": {},
   "outputs": [],
   "source": [
    "model.compile( optimizer=\"adam\",\n",
    "    loss=\"mse\",\n",
    "    metrics=[\"mae\"],)"
   ]
  },
  {
   "cell_type": "code",
   "execution_count": 79,
   "metadata": {},
   "outputs": [
    {
     "name": "stdout",
     "output_type": "stream",
     "text": [
      "Epoch 1/100\n",
      "14448/14448 [==============================] - 5s 332us/step - loss: 0.0379 - mae: 0.1476\n",
      "Epoch 2/100\n",
      "14448/14448 [==============================] - 5s 344us/step - loss: 0.0285 - mae: 0.1271\n",
      "Epoch 3/100\n",
      "14448/14448 [==============================] - 4s 288us/step - loss: 0.0275 - mae: 0.1241\n",
      "Epoch 4/100\n",
      "14448/14448 [==============================] - 4s 287us/step - loss: 0.0271 - mae: 0.1228\n",
      "Epoch 5/100\n",
      "14448/14448 [==============================] - 4s 289us/step - loss: 0.0267 - mae: 0.1218\n",
      "Epoch 6/100\n",
      "14448/14448 [==============================] - 4s 300us/step - loss: 0.0264 - mae: 0.1208\n",
      "Epoch 7/100\n",
      "14448/14448 [==============================] - 5s 325us/step - loss: 0.0261 - mae: 0.1200\n",
      "Epoch 8/100\n",
      "14448/14448 [==============================] - 4s 297us/step - loss: 0.0259 - mae: 0.1193\n",
      "Epoch 9/100\n",
      "14448/14448 [==============================] - 5s 312us/step - loss: 0.0256 - mae: 0.1186\n",
      "Epoch 10/100\n",
      "14448/14448 [==============================] - 4s 287us/step - loss: 0.0255 - mae: 0.1183\n",
      "Epoch 11/100\n",
      "14448/14448 [==============================] - 5s 328us/step - loss: 0.0253 - mae: 0.1177\n",
      "Epoch 12/100\n",
      "14448/14448 [==============================] - 5s 313us/step - loss: 0.0252 - mae: 0.1173\n",
      "Epoch 13/100\n",
      "14448/14448 [==============================] - 3s 219us/step - loss: 0.0251 - mae: 0.1169\n",
      "Epoch 14/100\n",
      "14448/14448 [==============================] - 4s 308us/step - loss: 0.0250 - mae: 0.1167\n",
      "Epoch 15/100\n",
      "14448/14448 [==============================] - 5s 353us/step - loss: 0.0249 - mae: 0.1164\n",
      "Epoch 16/100\n",
      "14448/14448 [==============================] - 5s 354us/step - loss: 0.0248 - mae: 0.1160\n",
      "Epoch 17/100\n",
      "14448/14448 [==============================] - 5s 323us/step - loss: 0.0248 - mae: 0.1162\n",
      "Epoch 18/100\n",
      "14448/14448 [==============================] - 4s 294us/step - loss: 0.0248 - mae: 0.1159\n",
      "Epoch 19/100\n",
      "14448/14448 [==============================] - 4s 275us/step - loss: 0.0247 - mae: 0.1158\n",
      "Epoch 20/100\n",
      "14448/14448 [==============================] - 4s 278us/step - loss: 0.0247 - mae: 0.1157\n",
      "Epoch 21/100\n",
      "14448/14448 [==============================] - 4s 279us/step - loss: 0.0247 - mae: 0.1157\n",
      "Epoch 22/100\n",
      "14448/14448 [==============================] - 5s 346us/step - loss: 0.0247 - mae: 0.1156\n",
      "Epoch 23/100\n",
      "14448/14448 [==============================] - 4s 301us/step - loss: 0.0247 - mae: 0.1156\n",
      "Epoch 24/100\n",
      "14448/14448 [==============================] - 4s 244us/step - loss: 0.0246 - mae: 0.1153\n",
      "Epoch 25/100\n",
      "14448/14448 [==============================] - 3s 223us/step - loss: 0.0247 - mae: 0.1154\n",
      "Epoch 26/100\n",
      "14448/14448 [==============================] - 5s 371us/step - loss: 0.0246 - mae: 0.1153\n",
      "Epoch 27/100\n",
      "14448/14448 [==============================] - 5s 363us/step - loss: 0.0247 - mae: 0.1153\n",
      "Epoch 28/100\n",
      "14448/14448 [==============================] - 5s 328us/step - loss: 0.0246 - mae: 0.1153\n",
      "Epoch 29/100\n",
      "14448/14448 [==============================] - 4s 286us/step - loss: 0.0246 - mae: 0.1154\n",
      "Epoch 30/100\n",
      "14448/14448 [==============================] - 5s 349us/step - loss: 0.0247 - mae: 0.1155\n",
      "Epoch 31/100\n",
      "14448/14448 [==============================] - 5s 363us/step - loss: 0.0246 - mae: 0.1151\n",
      "Epoch 32/100\n",
      "14448/14448 [==============================] - 6s 384us/step - loss: 0.0247 - mae: 0.1153\n",
      "Epoch 33/100\n",
      "14448/14448 [==============================] - 4s 280us/step - loss: 0.0246 - mae: 0.1152\n",
      "Epoch 34/100\n",
      "14448/14448 [==============================] - 5s 347us/step - loss: 0.0246 - mae: 0.1154\n",
      "Epoch 35/100\n",
      "14448/14448 [==============================] - 6s 404us/step - loss: 0.0246 - mae: 0.1152\n",
      "Epoch 36/100\n",
      "14448/14448 [==============================] - 6s 404us/step - loss: 0.0246 - mae: 0.1152\n",
      "Epoch 37/100\n",
      "14448/14448 [==============================] - 5s 362us/step - loss: 0.0246 - mae: 0.1152\n",
      "Epoch 38/100\n",
      "14448/14448 [==============================] - 5s 313us/step - loss: 0.0246 - mae: 0.1151\n",
      "Epoch 39/100\n",
      "14448/14448 [==============================] - 5s 366us/step - loss: 0.0246 - mae: 0.1151\n",
      "Epoch 40/100\n",
      "14448/14448 [==============================] - 4s 295us/step - loss: 0.0246 - mae: 0.1152\n",
      "Epoch 41/100\n",
      "14448/14448 [==============================] - 5s 355us/step - loss: 0.0246 - mae: 0.1151\n",
      "Epoch 42/100\n",
      "14448/14448 [==============================] - 4s 279us/step - loss: 0.0247 - mae: 0.1152\n",
      "Epoch 43/100\n",
      "14448/14448 [==============================] - 4s 276us/step - loss: 0.0246 - mae: 0.1152\n",
      "Epoch 44/100\n",
      "14448/14448 [==============================] - 4s 277us/step - loss: 0.0246 - mae: 0.1153\n",
      "Epoch 45/100\n",
      "14448/14448 [==============================] - 5s 358us/step - loss: 0.0246 - mae: 0.1151\n",
      "Epoch 46/100\n",
      "14448/14448 [==============================] - 4s 287us/step - loss: 0.0246 - mae: 0.1151\n",
      "Epoch 47/100\n",
      "14448/14448 [==============================] - 4s 276us/step - loss: 0.0246 - mae: 0.1151\n",
      "Epoch 48/100\n",
      "14448/14448 [==============================] - 4s 283us/step - loss: 0.0246 - mae: 0.1153\n",
      "Epoch 49/100\n",
      "14448/14448 [==============================] - 4s 280us/step - loss: 0.0247 - mae: 0.1152\n",
      "Epoch 50/100\n",
      "14448/14448 [==============================] - 4s 280us/step - loss: 0.0246 - mae: 0.1150\n",
      "Epoch 51/100\n",
      "14448/14448 [==============================] - 4s 277us/step - loss: 0.0247 - mae: 0.1152\n",
      "Epoch 52/100\n",
      "14448/14448 [==============================] - 4s 281us/step - loss: 0.0246 - mae: 0.1152\n",
      "Epoch 53/100\n",
      "14448/14448 [==============================] - 4s 282us/step - loss: 0.0246 - mae: 0.1153\n",
      "Epoch 54/100\n",
      "14448/14448 [==============================] - 4s 273us/step - loss: 0.0246 - mae: 0.1152\n",
      "Epoch 55/100\n",
      "14448/14448 [==============================] - 4s 274us/step - loss: 0.0246 - mae: 0.1152\n",
      "Epoch 56/100\n",
      "14448/14448 [==============================] - 4s 291us/step - loss: 0.0246 - mae: 0.1152\n",
      "Epoch 57/100\n",
      "14448/14448 [==============================] - 4s 279us/step - loss: 0.0246 - mae: 0.1152\n",
      "Epoch 58/100\n",
      "14448/14448 [==============================] - 4s 309us/step - loss: 0.0246 - mae: 0.1151\n",
      "Epoch 59/100\n",
      "14448/14448 [==============================] - 4s 277us/step - loss: 0.0246 - mae: 0.1151\n",
      "Epoch 60/100\n",
      "14448/14448 [==============================] - 4s 282us/step - loss: 0.0246 - mae: 0.1152\n",
      "Epoch 61/100\n",
      "14448/14448 [==============================] - 4s 273us/step - loss: 0.0246 - mae: 0.1152\n",
      "Epoch 62/100\n",
      "14448/14448 [==============================] - 4s 280us/step - loss: 0.0246 - mae: 0.1151\n",
      "Epoch 63/100\n",
      "14448/14448 [==============================] - 4s 275us/step - loss: 0.0246 - mae: 0.1152\n",
      "Epoch 64/100\n",
      "14448/14448 [==============================] - 5s 327us/step - loss: 0.0246 - mae: 0.1151\n",
      "Epoch 65/100\n",
      "14448/14448 [==============================] - 5s 368us/step - loss: 0.0246 - mae: 0.1152\n",
      "Epoch 66/100\n",
      "14448/14448 [==============================] - 6s 396us/step - loss: 0.0246 - mae: 0.1150\n",
      "Epoch 67/100\n",
      "14448/14448 [==============================] - 7s 450us/step - loss: 0.0246 - mae: 0.1152\n",
      "Epoch 68/100\n",
      "14448/14448 [==============================] - 6s 439us/step - loss: 0.0246 - mae: 0.1151\n",
      "Epoch 69/100\n",
      "14448/14448 [==============================] - 6s 422us/step - loss: 0.0246 - mae: 0.1152\n",
      "Epoch 70/100\n",
      "14448/14448 [==============================] - 7s 456us/step - loss: 0.0246 - mae: 0.1149\n",
      "Epoch 71/100\n",
      "14448/14448 [==============================] - 6s 385us/step - loss: 0.0246 - mae: 0.1152\n",
      "Epoch 72/100\n",
      "14448/14448 [==============================] - 5s 357us/step - loss: 0.0246 - mae: 0.1152\n",
      "Epoch 73/100\n",
      "14448/14448 [==============================] - 6s 428us/step - loss: 0.0246 - mae: 0.1150\n",
      "Epoch 74/100\n",
      "14448/14448 [==============================] - 6s 418us/step - loss: 0.0246 - mae: 0.1153\n",
      "Epoch 75/100\n",
      "14448/14448 [==============================] - 5s 378us/step - loss: 0.0246 - mae: 0.1151\n",
      "Epoch 76/100\n",
      "14448/14448 [==============================] - 5s 354us/step - loss: 0.0246 - mae: 0.1152\n",
      "Epoch 77/100\n",
      "14448/14448 [==============================] - 5s 350us/step - loss: 0.0246 - mae: 0.1151\n",
      "Epoch 78/100\n",
      "14448/14448 [==============================] - 5s 354us/step - loss: 0.0246 - mae: 0.1151\n",
      "Epoch 79/100\n",
      "14448/14448 [==============================] - 6s 395us/step - loss: 0.0246 - mae: 0.1151\n",
      "Epoch 80/100\n"
     ]
    },
    {
     "name": "stdout",
     "output_type": "stream",
     "text": [
      "14448/14448 [==============================] - 5s 368us/step - loss: 0.0246 - mae: 0.1150\n",
      "Epoch 81/100\n",
      "14448/14448 [==============================] - 5s 373us/step - loss: 0.0246 - mae: 0.1151\n",
      "Epoch 82/100\n",
      "14448/14448 [==============================] - 5s 330us/step - loss: 0.0246 - mae: 0.1152\n",
      "Epoch 83/100\n",
      "14448/14448 [==============================] - 5s 351us/step - loss: 0.0247 - mae: 0.1151\n",
      "Epoch 84/100\n",
      "14448/14448 [==============================] - 6s 420us/step - loss: 0.0246 - mae: 0.1152\n",
      "Epoch 85/100\n",
      "14448/14448 [==============================] - 5s 380us/step - loss: 0.0246 - mae: 0.1151\n",
      "Epoch 86/100\n",
      "14448/14448 [==============================] - 6s 392us/step - loss: 0.0246 - mae: 0.1150\n",
      "Epoch 87/100\n",
      "14448/14448 [==============================] - 6s 417us/step - loss: 0.0246 - mae: 0.1151\n",
      "Epoch 88/100\n",
      "14448/14448 [==============================] - 5s 344us/step - loss: 0.0246 - mae: 0.1150\n",
      "Epoch 89/100\n",
      "14448/14448 [==============================] - 5s 342us/step - loss: 0.0247 - mae: 0.1153\n",
      "Epoch 90/100\n",
      "14448/14448 [==============================] - 6s 398us/step - loss: 0.0246 - mae: 0.1151\n",
      "Epoch 91/100\n",
      "14448/14448 [==============================] - 5s 340us/step - loss: 0.0246 - mae: 0.1151\n",
      "Epoch 92/100\n",
      "14448/14448 [==============================] - 4s 276us/step - loss: 0.0246 - mae: 0.1151\n",
      "Epoch 93/100\n",
      "14448/14448 [==============================] - 4s 273us/step - loss: 0.0246 - mae: 0.1151\n",
      "Epoch 94/100\n",
      "14448/14448 [==============================] - 5s 327us/step - loss: 0.0246 - mae: 0.1152\n",
      "Epoch 95/100\n",
      "14448/14448 [==============================] - 6s 424us/step - loss: 0.0246 - mae: 0.1152\n",
      "Epoch 96/100\n",
      "14448/14448 [==============================] - 6s 418us/step - loss: 0.0246 - mae: 0.1151\n",
      "Epoch 97/100\n",
      "14448/14448 [==============================] - 4s 303us/step - loss: 0.0246 - mae: 0.1152\n",
      "Epoch 98/100\n",
      "14448/14448 [==============================] - 4s 271us/step - loss: 0.0246 - mae: 0.1150\n",
      "Epoch 99/100\n",
      "14448/14448 [==============================] - 4s 297us/step - loss: 0.0246 - mae: 0.1151\n",
      "Epoch 100/100\n",
      "14448/14448 [==============================] - 4s 272us/step - loss: 0.0246 - mae: 0.1152\n"
     ]
    },
    {
     "data": {
      "text/plain": [
       "<keras.callbacks.callbacks.History at 0x7fd9dc67d898>"
      ]
     },
     "execution_count": 79,
     "metadata": {},
     "output_type": "execute_result"
    }
   ],
   "source": [
    "model.fit(x_train,y_train,batch_size=10,epochs=100)"
   ]
  },
  {
   "cell_type": "code",
   "execution_count": 80,
   "metadata": {},
   "outputs": [
    {
     "name": "stdout",
     "output_type": "stream",
     "text": [
      "6192/6192 [==============================] - 0s 21us/step\n"
     ]
    }
   ],
   "source": [
    "loss_and_metrics = model.evaluate(x_test, y_test, batch_size=128)"
   ]
  },
  {
   "cell_type": "code",
   "execution_count": 81,
   "metadata": {},
   "outputs": [
    {
     "data": {
      "text/plain": [
       "[0.02481020678036897, 0.11465108394622803]"
      ]
     },
     "execution_count": 81,
     "metadata": {},
     "output_type": "execute_result"
    }
   ],
   "source": [
    "loss_and_metrics"
   ]
  },
  {
   "cell_type": "code",
   "execution_count": 82,
   "metadata": {},
   "outputs": [],
   "source": [
    "prd = model.predict(x_test, batch_size=128)"
   ]
  },
  {
   "cell_type": "code",
   "execution_count": 84,
   "metadata": {},
   "outputs": [],
   "source": [
    "from sklearn.metrics import r2_score"
   ]
  },
  {
   "cell_type": "code",
   "execution_count": 85,
   "metadata": {},
   "outputs": [
    {
     "data": {
      "text/plain": [
       "array([0.30247504, 0.09855836, 0.12969225, ..., 0.5688657 , 1.        ,\n",
       "       0.36268098])"
      ]
     },
     "execution_count": 85,
     "metadata": {},
     "output_type": "execute_result"
    }
   ],
   "source": [
    "d.predict(x_test)"
   ]
  },
  {
   "cell_type": "code",
   "execution_count": 86,
   "metadata": {},
   "outputs": [],
   "source": [
    "r2=r2_score(y_test,prd)"
   ]
  },
  {
   "cell_type": "code",
   "execution_count": 87,
   "metadata": {},
   "outputs": [
    {
     "data": {
      "text/plain": [
       "81.40332390226095"
      ]
     },
     "execution_count": 87,
     "metadata": {},
     "output_type": "execute_result"
    }
   ],
   "source": [
    "r2*100"
   ]
  },
  {
   "cell_type": "code",
   "execution_count": null,
   "metadata": {},
   "outputs": [],
   "source": []
  },
  {
   "cell_type": "code",
   "execution_count": null,
   "metadata": {},
   "outputs": [],
   "source": []
  },
  {
   "cell_type": "code",
   "execution_count": null,
   "metadata": {},
   "outputs": [],
   "source": []
  }
 ],
 "metadata": {
  "kernelspec": {
   "display_name": "Python 3",
   "language": "python",
   "name": "python3"
  },
  "language_info": {
   "codemirror_mode": {
    "name": "ipython",
    "version": 3
   },
   "file_extension": ".py",
   "mimetype": "text/x-python",
   "name": "python",
   "nbconvert_exporter": "python",
   "pygments_lexer": "ipython3",
   "version": "3.6.8"
  }
 },
 "nbformat": 4,
 "nbformat_minor": 2
}
